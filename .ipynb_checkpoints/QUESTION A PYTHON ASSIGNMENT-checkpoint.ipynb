{
 "cells": [
  {
   "cell_type": "code",
   "execution_count": 1,
   "id": "3b3474ea",
   "metadata": {},
   "outputs": [],
   "source": [
    "# Defining the library\n",
    "import pandas as pd\n",
    "import numpy as np\n",
    "from FREDMD_Tools import*"
   ]
  },
  {
   "cell_type": "code",
   "execution_count": 7,
   "id": "2e610c3c",
   "metadata": {},
   "outputs": [],
   "source": [
    "# Declaring dates staritng from 2005/1/1 to 2011/3/1\n",
    "backtest_dates = pd.date_range(start='2005-1-1', end='2011-3-1',freq='M').to_period('M')\n"
   ]
  },
  {
   "cell_type": "code",
   "execution_count": null,
   "id": "ffb708ee",
   "metadata": {},
   "outputs": [],
   "source": []
  },
  {
   "cell_type": "code",
   "execution_count": 23,
   "id": "aa51952b",
   "metadata": {},
   "outputs": [],
   "source": [
    "# Defining a function to load the data\n",
    "#This will read, drop, set the column to 'sasdate' as index\n",
    "def load_data(filename):\n",
    "    df = pd.read_csv(filename,header=0)\n",
    "    df = df.drop(0)\n",
    "    df = df.set_index('sasdate')\n",
    "    df.index = pd.PeriodIndex(df.index, freq = 'M')\n",
    "    return df\n",
    "    "
   ]
  },
  {
   "cell_type": "code",
   "execution_count": 59,
   "id": "f85d52bd",
   "metadata": {},
   "outputs": [],
   "source": [
    "FRED_DATA = load_data('2023-09.csv')"
   ]
  },
  {
   "cell_type": "code",
   "execution_count": 41,
   "id": "eb3d91b6",
   "metadata": {},
   "outputs": [],
   "source": [
    "# Creating dataframe model to store outcomes\n",
    "models = pd.DataFrame(index=FRED_DATA.columns)\n",
    "naive = pd.DataFrame(index=backtest_dates, columns=FRED_DATA.columns)"
   ]
  },
  {
   "cell_type": "code",
   "execution_count": 48,
   "id": "0d33710a",
   "metadata": {},
   "outputs": [],
   "source": [
    "horizons = [3,6,9,12]"
   ]
  },
  {
   "cell_type": "code",
   "execution_count": 49,
   "id": "726d8867",
   "metadata": {},
   "outputs": [],
   "source": [
    "for h in horizons:\n",
    "    # Establish dataframe to store errors\n",
    "    globals()[f'horizon_{h}'] = pd.DataFrame(index=backtest_dates,columns=FRED_DATA.columns)\n",
    "    # Establish dataframe to store naive errors\n",
    "    globals()[f'naive_{h}'] = pd.DataFrame(index=backtest_dates,columns=FRED_DATA.columns)"
   ]
  },
  {
   "cell_type": "code",
   "execution_count": null,
   "id": "962dadcc",
   "metadata": {},
   "outputs": [],
   "source": [
    "# looping by backtest date\n",
    "for date in backtest_dates:\n",
    "    # Looping each and every series\n",
    "    for series in FRED_DATA.columns:\n",
    "        # Choosing the appropriate data to backtest date\n",
    "        srs = select_continuous(FRED_DATA[series][:date])\n",
    "        model_1,frcst = fit_models(srs, h=12)\n",
    "        models.loc[series,date] = model_1\n",
    "        naive.loc[date,series] = srs.iloc[-1]\n",
    "        \n",
    "        # Looping the horizons\n",
    "        for h in horizons:\n",
    "            globals()[f'horizon_{h}'].loc[date,series] = (FRED_DATA[series][date+1:date+12] - frcst)[h-1]\n",
    "            globals()[f'naive_{h}'].loc[date,series] = FRED_DATA[series][date+h] - naive.loc[date,series]\n",
    "            \n",
    "       \n",
    "       "
   ]
  },
  {
   "cell_type": "code",
   "execution_count": 52,
   "id": "911dc263",
   "metadata": {},
   "outputs": [],
   "source": [
    "# Creating dataframes for the R-squared values\n",
    "for h in horizons:\n",
    "    globals()[f'R2_{h}M'] = pd.DataFrame(index = FRED_DATA.columns,columns=['R2'])\n",
    "\n",
    "# loop series\n",
    "for series in FRED_DATA.columns:\n",
    "    for h in horizons:\n",
    "        # Calculating the R square\n",
    "        residual = globals()[f'horizon_{h}'].loc[:,series].pow(2).sum()\n",
    "        totals = globals()[f'naive_{h}'].loc[:,series].pow(2).sum()\n",
    "        R2 = 1 - residual/totals\n",
    "        # Storing the R-squared values\n",
    "        globals()[f'R2_{h}M'].at[series, 'R2'] = R2"
   ]
  },
  {
   "cell_type": "code",
   "execution_count": 54,
   "id": "87291e1e",
   "metadata": {},
   "outputs": [],
   "source": [
    "# Constructing a data with identifiers\n",
    "frcst_residual = pd.DataFrame(index = FRED_DATA.columns, columns=['model','R2'])"
   ]
  },
  {
   "cell_type": "code",
   "execution_count": null,
   "id": "bdc0e81f",
   "metadata": {},
   "outputs": [],
   "source": [
    "# Saving the model and the R2 values\n",
    "frcst_residual['model'] = models.iloc[:, -1]\n",
    "frcst_residual['R2'] = R2_3M"
   ]
  },
  {
   "cell_type": "code",
   "execution_count": 57,
   "id": "0d25f33f",
   "metadata": {},
   "outputs": [],
   "source": [
    "# Saving the data into CSV file\n",
    "frcst_residual.to_csv('fcast_res.csv')\n"
   ]
  },
  {
   "cell_type": "code",
   "execution_count": null,
   "id": "5d030396",
   "metadata": {},
   "outputs": [],
   "source": []
  }
 ],
 "metadata": {
  "kernelspec": {
   "display_name": "Python 3 (ipykernel)",
   "language": "python",
   "name": "python3"
  },
  "language_info": {
   "codemirror_mode": {
    "name": "ipython",
    "version": 3
   },
   "file_extension": ".py",
   "mimetype": "text/x-python",
   "name": "python",
   "nbconvert_exporter": "python",
   "pygments_lexer": "ipython3",
   "version": "3.11.5"
  }
 },
 "nbformat": 4,
 "nbformat_minor": 5
}
